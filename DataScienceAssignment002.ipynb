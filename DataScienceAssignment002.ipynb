{
  "nbformat": 4,
  "nbformat_minor": 0,
  "metadata": {
    "colab": {
      "provenance": [],
      "authorship_tag": "ABX9TyMwEBWSEiRKsT0zmV+FopuR",
      "include_colab_link": true
    },
    "kernelspec": {
      "name": "python3",
      "display_name": "Python 3"
    },
    "language_info": {
      "name": "python"
    }
  },
  "cells": [
    {
      "cell_type": "markdown",
      "metadata": {
        "id": "view-in-github",
        "colab_type": "text"
      },
      "source": [
        "<a href=\"https://colab.research.google.com/github/sb200004/summerGit/blob/main/DataScienceAssignment002.ipynb\" target=\"_parent\"><img src=\"https://colab.research.google.com/assets/colab-badge.svg\" alt=\"Open In Colab\"/></a>"
      ]
    },
    {
      "cell_type": "code",
      "execution_count": 1,
      "metadata": {
        "colab": {
          "base_uri": "https://localhost:8080/"
        },
        "id": "1fXaaP7gAYXe",
        "outputId": "575bc7ff-66f9-49f8-e8a8-4b8b19678244"
      },
      "outputs": [
        {
          "output_type": "stream",
          "name": "stdout",
          "text": [
            "Initial Linked List:\n",
            "10 -> 20 -> 30 -> 40 -> 50 -> None\n",
            "Deleting node at position 3 with value 30\n",
            "\n",
            "Linked List after deleting 3rd node:\n",
            "10 -> 20 -> 40 -> 50 -> None\n",
            "Deleting node at position 1 with value 10\n",
            "\n",
            "Linked List after deleting 1st node:\n",
            "20 -> 40 -> 50 -> None\n",
            "\n",
            "Exception occurred: Index out of range.\n"
          ]
        }
      ],
      "source": [
        "class Node:\n",
        "    def __init__(self, data):\n",
        "        self.data = data\n",
        "        self.next = None\n",
        "\n",
        "class LinkedList:\n",
        "    def __init__(self):\n",
        "        self.head = None\n",
        "\n",
        "    def append(self, data):\n",
        "        new_node = Node(data)\n",
        "        if not self.head:\n",
        "            self.head = new_node\n",
        "            return\n",
        "\n",
        "        current = self.head\n",
        "        while current.next:\n",
        "            current = current.next\n",
        "        current.next = new_node\n",
        "\n",
        "    def print_list(self):\n",
        "        if not self.head:\n",
        "            print(\"The list is empty.\")\n",
        "            return\n",
        "\n",
        "        current = self.head\n",
        "        while current:\n",
        "            print(current.data, end=\" -> \")\n",
        "            current = current.next\n",
        "        print(\"None\")\n",
        "\n",
        "    def delete_nth_node(self, n):\n",
        "        if not self.head:\n",
        "            raise Exception(\"Cannot delete from an empty list.\")\n",
        "\n",
        "        if n <= 0:\n",
        "            raise ValueError(\"Index must be a positive integer.\")\n",
        "\n",
        "        if n == 1:\n",
        "            print(f\"Deleting node at position {n} with value {self.head.data}\")\n",
        "            self.head = self.head.next\n",
        "            return\n",
        "\n",
        "        current = self.head\n",
        "        count = 1\n",
        "\n",
        "        while current and count < n - 1:\n",
        "            current = current.next\n",
        "            count += 1\n",
        "\n",
        "        if not current or not current.next:\n",
        "            raise IndexError(\"Index out of range.\")\n",
        "\n",
        "        print(f\"Deleting node at position {n} with value {current.next.data}\")\n",
        "        current.next = current.next.next\n",
        "\n",
        "ll = LinkedList()\n",
        "ll.append(10)\n",
        "ll.append(20)\n",
        "ll.append(30)\n",
        "ll.append(40)\n",
        "ll.append(50)\n",
        "\n",
        "print(\"Initial Linked List:\")\n",
        "ll.print_list()\n",
        "\n",
        "try:\n",
        "    ll.delete_nth_node(3)\n",
        "    print(\"\\nLinked List after deleting 3rd node:\")\n",
        "    ll.print_list()\n",
        "\n",
        "    ll.delete_nth_node(1)\n",
        "    print(\"\\nLinked List after deleting 1st node:\")\n",
        "    ll.print_list()\n",
        "\n",
        "    ll.delete_nth_node(10)\n",
        "except Exception as e:\n",
        "    print(f\"\\nException occurred: {e}\")\n"
      ]
    },
    {
      "cell_type": "code",
      "source": [],
      "metadata": {
        "id": "EV-Jxxn7Aayp"
      },
      "execution_count": null,
      "outputs": []
    }
  ]
}